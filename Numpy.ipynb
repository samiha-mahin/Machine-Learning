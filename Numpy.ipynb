{
  "cells": [
    {
      "cell_type": "markdown",
      "metadata": {
        "id": "view-in-github",
        "colab_type": "text"
      },
      "source": [
        "<a href=\"https://colab.research.google.com/github/samiha-mahin/Machine-Learning/blob/main/Numpy.ipynb\" target=\"_parent\"><img src=\"https://colab.research.google.com/assets/colab-badge.svg\" alt=\"Open In Colab\"/></a>"
      ]
    },
    {
      "cell_type": "code",
      "execution_count": null,
      "metadata": {
        "id": "T78I4rjh6UzR"
      },
      "outputs": [],
      "source": [
        "import numpy as np"
      ]
    },
    {
      "cell_type": "code",
      "execution_count": null,
      "metadata": {
        "colab": {
          "base_uri": "https://localhost:8080/"
        },
        "id": "yQHgsDASGXDe",
        "outputId": "b52d5d5e-eba2-45f0-f05a-a2c7ac624a71"
      },
      "outputs": [
        {
          "data": {
            "text/plain": [
              "array([1, 2, 3])"
            ]
          },
          "execution_count": 3,
          "metadata": {},
          "output_type": "execute_result"
        }
      ],
      "source": [
        "a = np.array([1,2,3])\n",
        "a"
      ]
    },
    {
      "cell_type": "code",
      "execution_count": null,
      "metadata": {
        "colab": {
          "base_uri": "https://localhost:8080/"
        },
        "id": "P9PX1jstGiqe",
        "outputId": "0571945d-0c8c-42ec-d710-578b1d99f417"
      },
      "outputs": [
        {
          "data": {
            "text/plain": [
              "array([[1, 2, 3],\n",
              "       [4, 5, 6],\n",
              "       [7, 8, 9]])"
            ]
          },
          "execution_count": 5,
          "metadata": {},
          "output_type": "execute_result"
        }
      ],
      "source": [
        "a = np.array([[1,2,3],[4,5,6],[7,8,9]])\n",
        "a"
      ]
    },
    {
      "cell_type": "code",
      "execution_count": null,
      "metadata": {
        "colab": {
          "base_uri": "https://localhost:8080/"
        },
        "id": "ZRqaG641G_wj",
        "outputId": "893e3490-149c-4c6f-bf73-a1b508b8183e"
      },
      "outputs": [
        {
          "name": "stdout",
          "output_type": "stream",
          "text": [
            "2\n"
          ]
        }
      ],
      "source": [
        "a = np.array([[1,2,3],[4,5,6],[7,8,9]])\n",
        "\n",
        "print(a.ndim)"
      ]
    },
    {
      "cell_type": "code",
      "execution_count": null,
      "metadata": {
        "colab": {
          "base_uri": "https://localhost:8080/"
        },
        "id": "erwJeMSvHjrM",
        "outputId": "408a4407-4f67-4e43-fff7-5312f23b789a"
      },
      "outputs": [
        {
          "name": "stdout",
          "output_type": "stream",
          "text": [
            "8\n"
          ]
        }
      ],
      "source": [
        "print(a.itemsize)"
      ]
    },
    {
      "cell_type": "code",
      "execution_count": null,
      "metadata": {
        "colab": {
          "base_uri": "https://localhost:8080/"
        },
        "id": "ATD1MlaKHuSq",
        "outputId": "209a1eb4-c68d-4b91-e960-7fc93ba3eb2d"
      },
      "outputs": [
        {
          "name": "stdout",
          "output_type": "stream",
          "text": [
            "(3, 3)\n"
          ]
        }
      ],
      "source": [
        "print(a.shape)"
      ]
    },
    {
      "cell_type": "code",
      "execution_count": null,
      "metadata": {
        "colab": {
          "base_uri": "https://localhost:8080/"
        },
        "id": "jrFKsd6BIDlB",
        "outputId": "81b16db1-1982-4092-dc82-a5bcfeeff1a0"
      },
      "outputs": [
        {
          "data": {
            "text/plain": [
              "dtype('float64')"
            ]
          },
          "execution_count": 15,
          "metadata": {},
          "output_type": "execute_result"
        }
      ],
      "source": [
        "b =  np.array([[1,2,3],[4,5,6],[7,8,9]], dtype=np.float64)\n",
        "b.dtype"
      ]
    },
    {
      "cell_type": "code",
      "execution_count": null,
      "metadata": {
        "colab": {
          "base_uri": "https://localhost:8080/"
        },
        "id": "FTZsKtFkI7u1",
        "outputId": "c5a3737a-cac1-4bf5-b286-4762912c0ad8"
      },
      "outputs": [
        {
          "name": "stdout",
          "output_type": "stream",
          "text": [
            "[[1. 2. 3.]\n",
            " [4. 5. 6.]\n",
            " [7. 8. 9.]]\n"
          ]
        }
      ],
      "source": [
        "print(b)"
      ]
    },
    {
      "cell_type": "code",
      "execution_count": null,
      "metadata": {
        "colab": {
          "base_uri": "https://localhost:8080/"
        },
        "id": "n6VIbqDAI_3Y",
        "outputId": "3e8395b3-fc04-4fce-f05b-e1ed40572949"
      },
      "outputs": [
        {
          "data": {
            "text/plain": [
              "array([[1., 1., 1., 1.],\n",
              "       [1., 1., 1., 1.],\n",
              "       [1., 1., 1., 1.]])"
            ]
          },
          "execution_count": 18,
          "metadata": {},
          "output_type": "execute_result"
        }
      ],
      "source": [
        "#array fillers\n",
        "a = np.ones((3,4))\n",
        "a"
      ]
    },
    {
      "cell_type": "code",
      "execution_count": null,
      "metadata": {
        "colab": {
          "base_uri": "https://localhost:8080/"
        },
        "id": "IPlbm5psJrWz",
        "outputId": "e69a12a8-76a0-477c-abf7-4360f93d93d3"
      },
      "outputs": [
        {
          "data": {
            "text/plain": [
              "array([[30, 30, 30, 30, 30],\n",
              "       [30, 30, 30, 30, 30],\n",
              "       [30, 30, 30, 30, 30],\n",
              "       [30, 30, 30, 30, 30]])"
            ]
          },
          "execution_count": 19,
          "metadata": {},
          "output_type": "execute_result"
        }
      ],
      "source": [
        "c = np.full ((4,5),30)\n",
        "c"
      ]
    },
    {
      "cell_type": "code",
      "execution_count": null,
      "metadata": {
        "colab": {
          "base_uri": "https://localhost:8080/"
        },
        "id": "rJLE6DpTiTF1",
        "outputId": "7c8796a3-cca6-4463-d236-dab3320dae49"
      },
      "outputs": [
        {
          "data": {
            "text/plain": [
              "array([1.        , 1.08163265, 1.16326531, 1.24489796, 1.32653061,\n",
              "       1.40816327, 1.48979592, 1.57142857, 1.65306122, 1.73469388,\n",
              "       1.81632653, 1.89795918, 1.97959184, 2.06122449, 2.14285714,\n",
              "       2.2244898 , 2.30612245, 2.3877551 , 2.46938776, 2.55102041,\n",
              "       2.63265306, 2.71428571, 2.79591837, 2.87755102, 2.95918367,\n",
              "       3.04081633, 3.12244898, 3.20408163, 3.28571429, 3.36734694,\n",
              "       3.44897959, 3.53061224, 3.6122449 , 3.69387755, 3.7755102 ,\n",
              "       3.85714286, 3.93877551, 4.02040816, 4.10204082, 4.18367347,\n",
              "       4.26530612, 4.34693878, 4.42857143, 4.51020408, 4.59183673,\n",
              "       4.67346939, 4.75510204, 4.83673469, 4.91836735, 5.        ])"
            ]
          },
          "execution_count": 20,
          "metadata": {},
          "output_type": "execute_result"
        }
      ],
      "source": [
        "c = np.linspace(1,5,50) # 50 data from 1 to 5\n",
        "c"
      ]
    },
    {
      "cell_type": "code",
      "execution_count": null,
      "metadata": {
        "colab": {
          "base_uri": "https://localhost:8080/"
        },
        "id": "4G_9W7gvizHD",
        "outputId": "6a6714ea-710c-4563-8f8d-db1a0fad146d"
      },
      "outputs": [
        {
          "data": {
            "text/plain": [
              "array([1, 2, 3, 4, 5, 6, 7, 8])"
            ]
          },
          "execution_count": 22,
          "metadata": {},
          "output_type": "execute_result"
        }
      ],
      "source": [
        "x = np.arange(1,9)\n",
        "x"
      ]
    },
    {
      "cell_type": "code",
      "execution_count": null,
      "metadata": {
        "colab": {
          "base_uri": "https://localhost:8080/"
        },
        "id": "YrEfrVwcjdmt",
        "outputId": "242962d7-69cd-4a9c-94ad-faf3099bb0cf"
      },
      "outputs": [
        {
          "data": {
            "text/plain": [
              "array([[1, 2],\n",
              "       [3, 4],\n",
              "       [5, 6]])"
            ]
          },
          "execution_count": 25,
          "metadata": {},
          "output_type": "execute_result"
        }
      ],
      "source": [
        "a = np.array([[1,2,3],[4,5,6]])\n",
        "a.reshape(3,2)"
      ]
    },
    {
      "cell_type": "code",
      "execution_count": null,
      "metadata": {
        "colab": {
          "base_uri": "https://localhost:8080/"
        },
        "id": "nCDTLtHnkJ8_",
        "outputId": "35fd0b84-f67b-45b5-c56e-6851cd7f9a42"
      },
      "outputs": [
        {
          "data": {
            "text/plain": [
              "array([[ 2,  3,  4,  5,  6],\n",
              "       [ 7,  8,  9, 10, 11],\n",
              "       [12, 13, 14, 15, 16],\n",
              "       [17, 18, 19, 20, 21]])"
            ]
          },
          "execution_count": 26,
          "metadata": {},
          "output_type": "execute_result"
        }
      ],
      "source": [
        "#math operation\n",
        "a = np.arange(2,22).reshape(4,5)\n",
        "a"
      ]
    },
    {
      "cell_type": "code",
      "execution_count": null,
      "metadata": {
        "colab": {
          "base_uri": "https://localhost:8080/"
        },
        "id": "HtBGm8Eek0Gv",
        "outputId": "43007644-eae7-468e-dc44-eb3b41473618"
      },
      "outputs": [
        {
          "data": {
            "text/plain": [
              "2"
            ]
          },
          "execution_count": 27,
          "metadata": {},
          "output_type": "execute_result"
        }
      ],
      "source": [
        "a.min()"
      ]
    },
    {
      "cell_type": "code",
      "execution_count": 29,
      "metadata": {
        "colab": {
          "base_uri": "https://localhost:8080/"
        },
        "id": "YFyoqIHblFoV",
        "outputId": "5f57fcac-d151-4eef-cdd0-62732fa242ef"
      },
      "outputs": [
        {
          "output_type": "execute_result",
          "data": {
            "text/plain": [
              "array([38, 42, 46, 50, 54])"
            ]
          },
          "metadata": {},
          "execution_count": 29
        }
      ],
      "source": [
        "a = np.arange(2,22).reshape(4,5)\n",
        "a.sum(axis=0)"
      ]
    },
    {
      "cell_type": "code",
      "source": [],
      "metadata": {
        "id": "_i25h2XIVAdL"
      },
      "execution_count": null,
      "outputs": []
    },
    {
      "cell_type": "code",
      "execution_count": null,
      "metadata": {
        "colab": {
          "base_uri": "https://localhost:8080/"
        },
        "id": "bw1OwKfFlOI8",
        "outputId": "8081153e-3b7e-42c3-9129-4c48a1b22f16"
      },
      "outputs": [
        {
          "data": {
            "text/plain": [
              "array([20, 45, 70, 95])"
            ]
          },
          "execution_count": 29,
          "metadata": {},
          "output_type": "execute_result"
        }
      ],
      "source": [
        "a.sum(axis=1)"
      ]
    },
    {
      "cell_type": "code",
      "execution_count": null,
      "metadata": {
        "colab": {
          "base_uri": "https://localhost:8080/"
        },
        "id": "1oD7nuGhlnx4",
        "outputId": "ce88bec9-074a-4ce9-f2d6-e655f35797ce"
      },
      "outputs": [
        {
          "data": {
            "text/plain": [
              "array([[1.41421356, 1.73205081, 2.        , 2.23606798, 2.44948974],\n",
              "       [2.64575131, 2.82842712, 3.        , 3.16227766, 3.31662479],\n",
              "       [3.46410162, 3.60555128, 3.74165739, 3.87298335, 4.        ],\n",
              "       [4.12310563, 4.24264069, 4.35889894, 4.47213595, 4.58257569]])"
            ]
          },
          "execution_count": 30,
          "metadata": {},
          "output_type": "execute_result"
        }
      ],
      "source": [
        "np.sqrt(a)"
      ]
    },
    {
      "cell_type": "code",
      "execution_count": null,
      "metadata": {
        "colab": {
          "base_uri": "https://localhost:8080/"
        },
        "id": "Pq8zEmGvl-px",
        "outputId": "860caa2a-0ebd-47e3-c6c4-1377e864b025"
      },
      "outputs": [
        {
          "data": {
            "text/plain": [
              "array([[ 0,  1,  2,  3,  4,  5,  6,  7,  8,  9],\n",
              "       [10, 11, 12, 13, 14, 15, 16, 17, 18, 19],\n",
              "       [20, 21, 22, 23, 24, 25, 26, 27, 28, 29]])"
            ]
          },
          "execution_count": 31,
          "metadata": {},
          "output_type": "execute_result"
        }
      ],
      "source": [
        "b = np.arange(0,30).reshape(3,10)\n",
        "b"
      ]
    },
    {
      "cell_type": "code",
      "execution_count": null,
      "metadata": {
        "colab": {
          "base_uri": "https://localhost:8080/"
        },
        "id": "J2f3FxsEn2Ut",
        "outputId": "aaeb076d-675e-4515-843c-daa3b312022b"
      },
      "outputs": [
        {
          "data": {
            "text/plain": [
              "array([[ 0,  1,  2,  3,  4,  5,  6,  7,  8,  9],\n",
              "       [10, 11, 12, 13, 14, 15, 16, 17, 18, 19]])"
            ]
          },
          "execution_count": 32,
          "metadata": {},
          "output_type": "execute_result"
        }
      ],
      "source": [
        "#slicing\n",
        "b[0:2]"
      ]
    },
    {
      "cell_type": "code",
      "execution_count": null,
      "metadata": {
        "colab": {
          "background_save": true
        },
        "id": "eMiWIB2GoD8d",
        "outputId": "a474b05b-cb39-42f8-b05f-141ddcbae705"
      },
      "outputs": [
        {
          "data": {
            "text/plain": [
              "array([[20, 21, 22, 23, 24, 25, 26, 27, 28, 29]])"
            ]
          },
          "execution_count": 33,
          "metadata": {},
          "output_type": "execute_result"
        }
      ],
      "source": [
        "b[0:2]"
      ]
    },
    {
      "cell_type": "code",
      "source": [
        "import numpy as np\n",
        "b = np.arange(0,30).reshape(3,10)\n",
        "b[:,4:] #array values from 4th index to last"
      ],
      "metadata": {
        "colab": {
          "base_uri": "https://localhost:8080/"
        },
        "id": "usa192S5gUYJ",
        "outputId": "fd691bfa-8f0f-4167-8a58-9f599b48a801"
      },
      "execution_count": 3,
      "outputs": [
        {
          "output_type": "execute_result",
          "data": {
            "text/plain": [
              "array([[ 4,  5,  6,  7,  8,  9],\n",
              "       [14, 15, 16, 17, 18, 19],\n",
              "       [24, 25, 26, 27, 28, 29]])"
            ]
          },
          "metadata": {},
          "execution_count": 3
        }
      ]
    },
    {
      "cell_type": "code",
      "source": [
        "#looping\n",
        "#looping\n",
        "import numpy as np\n",
        "a = np.arange(6,12).reshape(3,2)\n",
        "for row in a:\n",
        "  print (row)"
      ],
      "metadata": {
        "colab": {
          "base_uri": "https://localhost:8080/"
        },
        "id": "B3wNG-fyz3W0",
        "outputId": "d6e0cd57-27ef-4044-834c-c47475ab879f"
      },
      "execution_count": 5,
      "outputs": [
        {
          "output_type": "stream",
          "name": "stdout",
          "text": [
            "[6 7]\n",
            "[8 9]\n",
            "[10 11]\n"
          ]
        }
      ]
    },
    {
      "cell_type": "code",
      "source": [
        "for row in a.flat:\n",
        "  print (row)"
      ],
      "metadata": {
        "colab": {
          "base_uri": "https://localhost:8080/"
        },
        "id": "D_hGqQhZ0hBx",
        "outputId": "4c5eae0d-a861-4ab8-eede-2d783e9f262d"
      },
      "execution_count": 6,
      "outputs": [
        {
          "output_type": "stream",
          "name": "stdout",
          "text": [
            "6\n",
            "7\n",
            "8\n",
            "9\n",
            "10\n",
            "11\n"
          ]
        }
      ]
    },
    {
      "cell_type": "code",
      "source": [
        "a = np.arange(0,12).reshape(3,4)\n",
        "b = np.arange(12,24).reshape(3,4)\n"
      ],
      "metadata": {
        "id": "XN6Fk9HW10EU"
      },
      "execution_count": 8,
      "outputs": []
    },
    {
      "cell_type": "code",
      "source": [
        "a+b"
      ],
      "metadata": {
        "colab": {
          "base_uri": "https://localhost:8080/"
        },
        "id": "e-ATm6L32CkF",
        "outputId": "a8dad309-19d1-45d2-d1c5-15351e8a6bba"
      },
      "execution_count": 9,
      "outputs": [
        {
          "output_type": "execute_result",
          "data": {
            "text/plain": [
              "array([[12, 14, 16, 18],\n",
              "       [20, 22, 24, 26],\n",
              "       [28, 30, 32, 34]])"
            ]
          },
          "metadata": {},
          "execution_count": 9
        }
      ]
    },
    {
      "cell_type": "code",
      "source": [
        "a*b"
      ],
      "metadata": {
        "colab": {
          "base_uri": "https://localhost:8080/"
        },
        "id": "0UvYOhiF2G-L",
        "outputId": "e6452591-9c7e-43ab-8c4d-09073e82fd46"
      },
      "execution_count": 10,
      "outputs": [
        {
          "output_type": "execute_result",
          "data": {
            "text/plain": [
              "array([[  0,  13,  28,  45],\n",
              "       [ 64,  85, 108, 133],\n",
              "       [160, 189, 220, 253]])"
            ]
          },
          "metadata": {},
          "execution_count": 10
        }
      ]
    },
    {
      "cell_type": "code",
      "source": [
        "a = np.arange(6,12).reshape(3,2)\n",
        "b = np.arange(12,18).reshape(3,2)\n",
        "np.vstack((a,b))"
      ],
      "metadata": {
        "colab": {
          "base_uri": "https://localhost:8080/"
        },
        "id": "IDDXeFxo1Mlo",
        "outputId": "a8378bbf-6cef-4837-93ed-11ca05741f19"
      },
      "execution_count": 7,
      "outputs": [
        {
          "output_type": "execute_result",
          "data": {
            "text/plain": [
              "array([[ 6,  7],\n",
              "       [ 8,  9],\n",
              "       [10, 11],\n",
              "       [12, 13],\n",
              "       [14, 15],\n",
              "       [16, 17]])"
            ]
          },
          "metadata": {},
          "execution_count": 7
        }
      ]
    },
    {
      "cell_type": "code",
      "source": [
        "np.hstack((a,b))"
      ],
      "metadata": {
        "colab": {
          "base_uri": "https://localhost:8080/"
        },
        "id": "eFTCaAhwQOMY",
        "outputId": "6844884c-ab27-4108-f2e6-81bcdc59691a"
      },
      "execution_count": 11,
      "outputs": [
        {
          "output_type": "execute_result",
          "data": {
            "text/plain": [
              "array([[ 0,  1,  2,  3, 12, 13, 14, 15],\n",
              "       [ 4,  5,  6,  7, 16, 17, 18, 19],\n",
              "       [ 8,  9, 10, 11, 20, 21, 22, 23]])"
            ]
          },
          "metadata": {},
          "execution_count": 11
        }
      ]
    },
    {
      "cell_type": "code",
      "source": [
        "np.hsplit(a,1)\n"
      ],
      "metadata": {
        "colab": {
          "base_uri": "https://localhost:8080/"
        },
        "id": "UZ-nv1aZQs6e",
        "outputId": "2acc364d-0695-4761-c798-2284006a6380"
      },
      "execution_count": 13,
      "outputs": [
        {
          "output_type": "execute_result",
          "data": {
            "text/plain": [
              "[array([[ 0,  1,  2,  3],\n",
              "        [ 4,  5,  6,  7],\n",
              "        [ 8,  9, 10, 11]])]"
            ]
          },
          "metadata": {},
          "execution_count": 13
        }
      ]
    },
    {
      "cell_type": "code",
      "source": [
        "np.hsplit(a,2)"
      ],
      "metadata": {
        "colab": {
          "base_uri": "https://localhost:8080/"
        },
        "id": "-CQs99U_Q_PY",
        "outputId": "e8a0b94d-bed0-42a1-e2a0-765389ac97fe"
      },
      "execution_count": 14,
      "outputs": [
        {
          "output_type": "execute_result",
          "data": {
            "text/plain": [
              "[array([[0, 1],\n",
              "        [4, 5],\n",
              "        [8, 9]]),\n",
              " array([[ 2,  3],\n",
              "        [ 6,  7],\n",
              "        [10, 11]])]"
            ]
          },
          "metadata": {},
          "execution_count": 14
        }
      ]
    },
    {
      "cell_type": "code",
      "source": [
        "b = (a < 5)\n"
      ],
      "metadata": {
        "id": "z0J4UMXaR9ZI"
      },
      "execution_count": 23,
      "outputs": []
    },
    {
      "cell_type": "code",
      "source": [
        "a = np.arange(6,12).reshape(3,2)\n",
        "b = np.arange(0,6).reshape(3,2)\n"
      ],
      "metadata": {
        "id": "sTcDloFtVDR0"
      },
      "execution_count": 30,
      "outputs": []
    },
    {
      "cell_type": "code",
      "source": [
        "for x,y in np.nditer([a,b]):\n",
        "  print (x,y)"
      ],
      "metadata": {
        "colab": {
          "base_uri": "https://localhost:8080/"
        },
        "id": "c7BXp9cTVWeh",
        "outputId": "6616fc73-b80f-4c88-a3d9-177631629b68"
      },
      "execution_count": 31,
      "outputs": [
        {
          "output_type": "stream",
          "name": "stdout",
          "text": [
            "6 0\n",
            "7 1\n",
            "8 2\n",
            "9 3\n",
            "10 4\n",
            "11 5\n"
          ]
        }
      ]
    }
  ],
  "metadata": {
    "colab": {
      "provenance": [],
      "authorship_tag": "ABX9TyNF12gDn28l7aQ0uZtCJIin",
      "include_colab_link": true
    },
    "kernelspec": {
      "display_name": "Python 3",
      "name": "python3"
    },
    "language_info": {
      "name": "python"
    }
  },
  "nbformat": 4,
  "nbformat_minor": 0
}